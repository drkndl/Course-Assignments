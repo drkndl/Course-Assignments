{
 "cells": [
  {
   "cell_type": "code",
   "execution_count": 1,
   "metadata": {},
   "outputs": [],
   "source": [
    "import numpy as np\n",
    "import math\n"
   ]
  },
  {
   "cell_type": "code",
   "execution_count": 2,
   "metadata": {},
   "outputs": [],
   "source": [
    "phi = 21.1         #Latitude\n",
    "B = 30              #Collector slope\n",
    "G = 15              #Surface azimuth angle\n"
   ]
  },
  {
   "cell_type": "code",
   "execution_count": 4,
   "metadata": {},
   "outputs": [
    {
     "name": "stdout",
     "output_type": "stream",
     "text": [
      "14.90088745587467\n"
     ]
    }
   ],
   "source": [
    "n = 121\n",
    "dec = 23.45*np.sin(math.radians(360*(284+n)/365))   #declination\n",
    "print(dec)"
   ]
  },
  {
   "cell_type": "code",
   "execution_count": 5,
   "metadata": {},
   "outputs": [
    {
     "name": "stdout",
     "output_type": "stream",
     "text": [
      "3.016724124338722\n"
     ]
    }
   ],
   "source": [
    "Be = math.radians((n-1)*360/365)\n",
    "E = 229.2*(0.000075 + 0.001868*np.cos(Be) - 0.032077*np.sin(Be) - 0.014615*np.cos(2*Be) - 0.04089*np.sin(2*Be))\n",
    "print(E)"
   ]
  },
  {
   "cell_type": "code",
   "execution_count": 18,
   "metadata": {},
   "outputs": [
    {
     "name": "stdout",
     "output_type": "stream",
     "text": [
      "-38.88000000000001\n"
     ]
    }
   ],
   "source": [
    "LST = 9.408\n",
    "\n",
    "w = (LST - 12)*15         #Hour angle\n",
    "print(w)"
   ]
  },
  {
   "cell_type": "code",
   "execution_count": 19,
   "metadata": {},
   "outputs": [
    {
     "name": "stdout",
     "output_type": "stream",
     "text": [
      "2.353509040099313\n"
     ]
    }
   ],
   "source": [
    "# phi = math.radians(phi)        #Latitude\n",
    "# B = math.radians(B)         #Collector slope\n",
    "# G = math.radians(G)\n",
    "# w = math.radians(w)\n",
    "# dec = math.radians(dec)\n",
    "\n",
    "costheta = np.sin(phi)*(np.sin(dec)*np.cos(B) + np.cos(dec)*np.cos(G)*np.cos(w)*np.sin(B)) + np.cos(phi)*(np.cos(dec)*np.cos(w)*np.cos(B) - np.sin(dec)*np.sin(B)*np.cos(G)) + np.cos(dec)*np.sin(G)*np.sin(w)*np.sin(B)\n",
    "theta = math.acos(costheta)\n",
    "print(theta)"
   ]
  },
  {
   "cell_type": "code",
   "execution_count": null,
   "metadata": {},
   "outputs": [],
   "source": []
  },
  {
   "cell_type": "code",
   "execution_count": null,
   "metadata": {},
   "outputs": [],
   "source": []
  }
 ],
 "metadata": {
  "kernelspec": {
   "display_name": "Python 3",
   "language": "python",
   "name": "python3"
  },
  "language_info": {
   "codemirror_mode": {
    "name": "ipython",
    "version": 3
   },
   "file_extension": ".py",
   "mimetype": "text/x-python",
   "name": "python",
   "nbconvert_exporter": "python",
   "pygments_lexer": "ipython3",
   "version": "3.7.6"
  }
 },
 "nbformat": 4,
 "nbformat_minor": 4
}
