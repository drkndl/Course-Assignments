{
 "cells": [
  {
   "cell_type": "code",
   "execution_count": 81,
   "metadata": {},
   "outputs": [],
   "source": [
    "from __future__ import division\n",
    "from tkinter import *\n",
    "import math\n",
    "import numpy as np\n",
    "import matplotlib.pyplot as plt"
   ]
  },
  {
   "cell_type": "code",
   "execution_count": 82,
   "metadata": {},
   "outputs": [],
   "source": [
    "win=Tk()\n",
    "win.title('Free Vibration on Cantilever Beam - Inputs')\n",
    "win.geometry(\"430x500\")\n",
    "\n",
    "lbl1=Label(win, text='End Mass (kg)')\n",
    "lbl2=Label(win, text='Material')\n",
    "lbl3=Label(win, text='Damping ratio')\n",
    "lbl4=Label(win, text='Length (mm)')\n",
    "lbl5=Label(win, text='Cross Section')\n",
    "\n",
    "t1=Entry()\n",
    "\n",
    "t2=StringVar(win)\n",
    "t2.set(\"Steel\")\n",
    "mat = OptionMenu(win, t2, \"Steel\", \"Aluminium\", \"Copper\")\n",
    "mat.pack()\n",
    "        \n",
    "t3=Entry()\n",
    "        \n",
    "t4=Entry()\n",
    "t5=StringVar(win)\n",
    "t5.set(\"Square\")\n",
    "shape=OptionMenu(win, t5, \"Square\", \"Circle\", \"T-Section\",\"Random\")\n",
    "shape.pack()\n",
    "\n",
    "if t5==\"Random\":\n",
    "    lbl6=\"Enter the moment of inertia of the cross section\"\n",
    "    t6=Entry()\n",
    "    lbl.place(x=50, y=300)\n",
    "    t6.place(x=250, y=300)\n",
    "    \n",
    "lbl1.place(x=50, y=50)\n",
    "t1.place(x=250, y=50)\n",
    "lbl2.place(x=50, y=100)\n",
    "mat.place(x=250, y=100)\n",
    "b1=Button(win, text='Calculate', command=get_values)\n",
    "b1.place(x=190, y=350)\n",
    "lbl3.place(x=50, y=150)\n",
    "t3.place(x=250, y=150)\n",
    "lbl4.place(x=50, y=200)\n",
    "t4.place(x=250, y=200)\n",
    "lbl5.place(x=50, y=250)\n",
    "shape.place(x=250, y=250)\n",
    "\n",
    "win.mainloop()"
   ]
  },
  {
   "cell_type": "code",
   "execution_count": 59,
   "metadata": {},
   "outputs": [],
   "source": [
    "def get_values():\n",
    "    \n",
    "    m = float(t1.get())\n",
    "    material = t2.get()\n",
    "    z = float(t3.get())\n",
    "    l = float(t4.get())\n",
    "    shape = t5.get()\n",
    "    \n",
    "    if material == \"Steel\":\n",
    "        E = 200*10**3 # MPa\n",
    "    elif material == \"Aluminium\":\n",
    "        E = 68*10**3 # MPa\n",
    "    else:\n",
    "        E = 121*10**3 # MPa\n",
    "        \n",
    "    if shape == \"Square\":\n",
    "        I = 4218.75*10**4 # mm^4\n",
    "    elif shape == \"Circle\":\n",
    "        I = 2485.05*10**4 # mm^4\n",
    "    elif shape == \"T-Section\":\n",
    "        I = 541.1*10**4   # Ixx mm^4\n",
    "        \n",
    "    k = 3*E*I/l**3\n",
    "    decrement = 2*np.pi*z\n",
    "    wn = np.sqrt(k/m)\n",
    "    fn = wn/(2*np.pi)\n",
    "    wd = wn*(1-z**2)\n",
    "    cc = 2*np.sqrt(m*k)\n",
    "    c = z*cc\n",
    "    q = 1/(2*z)\n",
    "        \n",
    "    newWin = Tk()\n",
    "    newWin.title('Free Vibration of Cantilever Beam - Results')\n",
    "    newWin.geometry('500x500')\n",
    "\n",
    "    lbl1 = Label(newWin, text=\"Spring stiffness k (N/m)\")\n",
    "    lbl2 = Label(newWin, text='Natural angular frequency (wn)[rad/s]')\n",
    "    lbl3 = Label(newWin, text='Natural frequency (fn) [Hz]')\n",
    "    lbl4 = Label(newWin, text='Critical damping (cc)')\n",
    "    lbl5 = Label(newWin, text='Damping factor (c)')\n",
    "    lbl6 = Label(newWin, text='Damped natural frequency (wd)')\n",
    "    lbl7 = Label(newWin, text='Quality factor (Q)')\n",
    "    lbl8 = Label(newWin, text='Logarithmic Decrement (Delta)')\n",
    "\n",
    "    k, decrement, wn, fn, wd, cc, c, q = calculate()\n",
    "\n",
    "    a1 = Label(newWin, text=str(k))\n",
    "    a2 = Label(newWin, text=str(wn))\n",
    "    a3 = Label(newWin, text=str(fn))\n",
    "    a4 = Label(newWin, text=str(cc))\n",
    "    a5 = Label(newWin, text=str(c))\n",
    "    a6 = Label(newWin, text=str(wd))\n",
    "    a7 = Label(newWin, text=str(q))\n",
    "    a8 = Label(newWin, text=str(decrement))\n",
    "\n",
    "    lbl1.place(x=50, y=50)\n",
    "    lbl2.place(x=50, y=100)\n",
    "    lbl3.place(x=50, y=150)\n",
    "    lbl4.place(x=50, y=200)\n",
    "    lbl5.place(x=50, y=250)\n",
    "    lbl6.place(x=50, y=300)\n",
    "    lbl7.place(x=50, y=350)\n",
    "    lbl8.place(x=50, y=400)\n",
    "\n",
    "    a1.place(x=350, y=50)\n",
    "    a2.place(x=350, y=100)\n",
    "    a3.place(x=350, y=150)\n",
    "    a4.place(x=350, y=200)\n",
    "    a5.place(x=350, y=250)\n",
    "    a6.place(x=350, y=300)\n",
    "    a7.place(x=350, y=350)\n",
    "    a8.place(x=350, y=400) \n",
    "    \n",
    "    newWin.mainloop()"
   ]
  },
  {
   "cell_type": "code",
   "execution_count": 73,
   "metadata": {},
   "outputs": [],
   "source": [
    "from ipywidgets import interact, interactive, fixed, interact_manual\n",
    "import ipywidgets as widgets"
   ]
  },
  {
   "cell_type": "code",
   "execution_count": 74,
   "metadata": {},
   "outputs": [
    {
     "data": {
      "application/vnd.jupyter.widget-view+json": {
       "model_id": "595235247b6c4b0fa831a47ca9aa5aeb",
       "version_major": 2,
       "version_minor": 0
      },
      "text/plain": [
       "interactive(children=(FloatSlider(value=0.25, description='z', max=0.5, step=0.01), Output()), _dom_classes=('…"
      ]
     },
     "metadata": {},
     "output_type": "display_data"
    },
    {
     "data": {
      "image/png": "[encoded data removed]",
      "text/plain": [
       "<Figure size 432x288 with 1 Axes>"
      ]
     },
     "metadata": {
      "needs_background": "light"
     },
     "output_type": "display_data"
    }
   ],
   "source": [
    "# def plot(z, wn):\n",
    "#     wd = wn*(1-z**2)\n",
    "#     t=np.arange(0,5,0.01)\n",
    "#     init_d = 400\n",
    "#     displacement= np.exp(-z*wn*t)*init_d*np.cos(wd*t) + (z*wn*init_d*np.sin(wd*t))/wd\n",
    "#     plt.plot(t, displacement)\n",
    "#     plt.title(\"Free Vibration of Cantilever Beam - Displacement vs Time graph\")\n",
    "#     plt.xlabel(\"Time\")\n",
    "#     plt.ylabel(\"Displacement\")\n",
    "    \n",
    "# interactive(plot(0.05, 17.32), z=(0,0.5,0.01))"
   ]
  },
  {
   "cell_type": "code",
   "execution_count": null,
   "metadata": {},
   "outputs": [],
   "source": []
  }
 ],
 "metadata": {
  "kernelspec": {
   "display_name": "Python 3",
   "language": "python",
   "name": "python3"
  },
  "language_info": {
   "codemirror_mode": {
    "name": "ipython",
    "version": 3
   },
   "file_extension": ".py",
   "mimetype": "text/x-python",
   "name": "python",
   "nbconvert_exporter": "python",
   "pygments_lexer": "ipython3",
   "version": "3.7.6"
  }
 },
 "nbformat": 4,
 "nbformat_minor": 4
}
