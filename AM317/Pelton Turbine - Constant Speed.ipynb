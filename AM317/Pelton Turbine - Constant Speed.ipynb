{
 "cells": [
  {
   "cell_type": "code",
   "execution_count": 2,
   "metadata": {},
   "outputs": [],
   "source": [
    "import numpy as np"
   ]
  },
  {
   "cell_type": "code",
   "execution_count": 3,
   "metadata": {},
   "outputs": [
    {
     "name": "stdout",
     "output_type": "stream",
     "text": [
      "[1. 2. 3. 4. 5. 6. 7.] [ 4.5  5.5  6.5  7.5  8.5  9.5 10.5]\n"
     ]
    }
   ],
   "source": [
    "delpres = [0.45, 0.55, 0.65, 0.75, 0.85, 0.95, 0.105]\n",
    "vacpres = [0.12, 0.12, 0.12, 0.12, 0.11, 0.1, 0.1]\n",
    "delhead = np.linspace(4.5, 10.5, 7)\n",
    "w = np.linspace(1,7,7)\n",
    "s = [0.4, 0.9, 1.2, 1.4, 1.9, 2.5, 2.9]\n",
    "print(w, delhead)"
   ]
  },
  {
   "cell_type": "code",
   "execution_count": 4,
   "metadata": {},
   "outputs": [
    {
     "name": "stdout",
     "output_type": "stream",
     "text": [
      "[0.88, 1.62, 2.65, 3.83, 4.56, 5.15, 6.03]\n",
      "<class 'list'>\n"
     ]
    }
   ],
   "source": [
    "#Torque\n",
    "T = (w-s)*0.15*9.81\n",
    "T = [ round(elem, 2) for elem in T ]\n",
    "print(T)\n",
    "print(type(T))"
   ]
  },
  {
   "cell_type": "code",
   "execution_count": 5,
   "metadata": {},
   "outputs": [
    {
     "name": "stdout",
     "output_type": "stream",
     "text": [
      "[4.  5.  6.2 7.2 7.5 7.6 7.9]\n"
     ]
    }
   ],
   "source": [
    "#Hook gauge reading\n",
    "ir = 2.5*np.ones((7))\n",
    "#print(ir)\n",
    "fr = [6.5, 7.5, 8.7, 9.7, 10, 10.1, 10.4]\n",
    "diff = fr - ir\n",
    "print(diff)"
   ]
  },
  {
   "cell_type": "code",
   "execution_count": 6,
   "metadata": {},
   "outputs": [
    {
     "name": "stdout",
     "output_type": "stream",
     "text": [
      "[0.0067, 0.0093, 0.0129, 0.0161, 0.0171, 0.0174, 0.0185]\n",
      "<class 'list'>\n"
     ]
    }
   ],
   "source": [
    "#Qact\n",
    "Qact = 2/3*0.6*0.47*np.sqrt(2*9.81)*(diff*0.01)**1.5\n",
    "Qact = [round(elem, 4) for elem in Qact]\n",
    "print(Qact)\n",
    "print(type(Qact))"
   ]
  },
  {
   "cell_type": "code",
   "execution_count": 8,
   "metadata": {},
   "outputs": [
    {
     "name": "stdout",
     "output_type": "stream",
     "text": [
      "[404.221, 561.083, 778.2764, 971.3372, 1031.6686, 1049.7681, 1116.1328]\n"
     ]
    }
   ],
   "source": [
    "#Input power\n",
    "H=6.15\n",
    "inp = [H*9810.0*elem for elem in Qact]\n",
    "inp = [round(elem, 4) for elem in inp]\n",
    "print(inp)"
   ]
  },
  {
   "cell_type": "code",
   "execution_count": 9,
   "metadata": {},
   "outputs": [
    {
     "name": "stdout",
     "output_type": "stream",
     "text": [
      "[82.94, 152.68, 249.76, 360.97, 429.77, 485.38, 568.31]\n"
     ]
    }
   ],
   "source": [
    "#Output power\n",
    "out=[]\n",
    "for i in range(len(T)):\n",
    "    out.append(2*np.pi*900*T[i]/60.0)\n",
    "out = [round(elem,2) for elem in out]\n",
    "print(out)"
   ]
  },
  {
   "cell_type": "code",
   "execution_count": 10,
   "metadata": {},
   "outputs": [
    {
     "name": "stdout",
     "output_type": "stream",
     "text": [
      "[20.518478752959396, 27.211660306942115, 32.09142664482695, 37.162171900757016, 41.65775715186059, 46.23687841152727, 50.91777609259399]\n"
     ]
    }
   ],
   "source": [
    "#Efficiency\n",
    "eff=[out[i]/inp[i]*100 for i in range(len(out))]\n",
    "print(eff)"
   ]
  },
  {
   "cell_type": "code",
   "execution_count": 54,
   "metadata": {},
   "outputs": [
    {
     "name": "stdout",
     "output_type": "stream",
     "text": [
      "[462.68139586 435.46484316 401.44415229 387.83587594 347.01104689\n",
      " 306.18621785 269.44387171]\n"
     ]
    }
   ],
   "source": [
    "#Unit speed\n",
    "unsp = speed/np.sqrt(13.5)\n",
    "print(unsp)"
   ]
  },
  {
   "cell_type": "code",
   "execution_count": 55,
   "metadata": {},
   "outputs": [
    {
     "name": "stdout",
     "output_type": "stream",
     "text": [
      "[0.0044363  0.00457238 0.00462681 0.00487176 0.00495341 0.00503506\n",
      " 0.00576991]\n"
     ]
    }
   ],
   "source": [
    "#Unit discharge\n",
    "undi = Qact/np.sqrt(13.5)\n",
    "print(undi)"
   ]
  },
  {
   "cell_type": "code",
   "execution_count": 57,
   "metadata": {},
   "outputs": [
    {
     "name": "stdout",
     "output_type": "stream",
     "text": [
      "[2.6559323350967565, 4.965508836604911, 7.317825406052988, 8.844774814434864, 9.905817161452795, 10.474139102597302, 11.370067696583183]\n"
     ]
    }
   ],
   "source": [
    "#Unit power\n",
    "unpo = [outi/(13.5**1.5) for outi in out]\n",
    "print(unpo)"
   ]
  },
  {
   "cell_type": "code",
   "execution_count": null,
   "metadata": {},
   "outputs": [],
   "source": []
  }
 ],
 "metadata": {
  "kernelspec": {
   "display_name": "Python 3",
   "language": "python",
   "name": "python3"
  },
  "language_info": {
   "codemirror_mode": {
    "name": "ipython",
    "version": 3
   },
   "file_extension": ".py",
   "mimetype": "text/x-python",
   "name": "python",
   "nbconvert_exporter": "python",
   "pygments_lexer": "ipython3",
   "version": "3.7.6"
  }
 },
 "nbformat": 4,
 "nbformat_minor": 4
}
