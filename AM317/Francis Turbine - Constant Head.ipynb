{
 "cells": [
  {
   "cell_type": "code",
   "execution_count": 59,
   "metadata": {},
   "outputs": [],
   "source": [
    "import numpy as np\n",
    "import matplotlib.pyplot as plt"
   ]
  },
  {
   "cell_type": "code",
   "execution_count": 60,
   "metadata": {},
   "outputs": [
    {
     "name": "stdout",
     "output_type": "stream",
     "text": [
      "[1. 2. 3. 4. 5. 6. 7.]\n"
     ]
    }
   ],
   "source": [
    "speed = [1700, 1600, 1475, 1425, 1275, 1125, 990]\n",
    "w = np.linspace(1,7,7)\n",
    "s = [0.5, 1, 1.4, 2, 2.5, 3, 3.3]\n",
    "print(w)"
   ]
  },
  {
   "cell_type": "code",
   "execution_count": 61,
   "metadata": {},
   "outputs": [
    {
     "name": "stdout",
     "output_type": "stream",
     "text": [
      "[0.74, 1.47, 2.35, 2.94, 3.68, 4.41, 5.44]\n",
      "<class 'list'>\n"
     ]
    }
   ],
   "source": [
    "#Torque\n",
    "T = (w-s)*0.15*9.81\n",
    "T = [ round(elem, 2) for elem in T ]\n",
    "print(T)\n",
    "print(type(T))"
   ]
  },
  {
   "cell_type": "code",
   "execution_count": 62,
   "metadata": {},
   "outputs": [
    {
     "name": "stdout",
     "output_type": "stream",
     "text": [
      "[7.27 7.4  7.48 7.74 7.83 7.9  8.66]\n"
     ]
    }
   ],
   "source": [
    "#Hook gauge reading\n",
    "ir = 2.3*np.ones((7))\n",
    "#print(ir)\n",
    "fr = [9.57, 9.7, 9.78, 10.04, 10.13, 10.2, 10.96]\n",
    "diff = fr - ir\n",
    "print(diff)"
   ]
  },
  {
   "cell_type": "code",
   "execution_count": 63,
   "metadata": {},
   "outputs": [
    {
     "name": "stdout",
     "output_type": "stream",
     "text": [
      "[0.0163, 0.0168, 0.017, 0.0179, 0.0182, 0.0185, 0.0212]\n",
      "<class 'list'>\n"
     ]
    }
   ],
   "source": [
    "#Qact\n",
    "Qact = 2/3*0.6*0.47*np.sqrt(2*9.81)*(diff*0.01)**1.5\n",
    "Qact = [round(elem, 4) for elem in Qact]\n",
    "print(Qact)\n",
    "print(type(Qact))"
   ]
  },
  {
   "cell_type": "code",
   "execution_count": 64,
   "metadata": {},
   "outputs": [
    {
     "name": "stdout",
     "output_type": "stream",
     "text": [
      "[2158.6905, 2224.908, 2251.395, 2370.5865, 2410.317, 2450.0475, 2807.622]\n"
     ]
    }
   ],
   "source": [
    "#Input power\n",
    "inp = [13.5*9810.0*elem for elem in Qact]\n",
    "inp = [round(elem, 4) for elem in inp]\n",
    "print(inp)"
   ]
  },
  {
   "cell_type": "code",
   "execution_count": 65,
   "metadata": {},
   "outputs": [
    {
     "name": "stdout",
     "output_type": "stream",
     "text": [
      "[131.74, 246.3, 362.98, 438.72, 491.35, 519.54, 563.98]\n"
     ]
    }
   ],
   "source": [
    "#Output power\n",
    "out=[]\n",
    "for i in range(len(T)):\n",
    "    out.append(2*np.pi*speed[i]*T[i]/60.0)\n",
    "out = [round(elem,2) for elem in out]\n",
    "print(out)"
   ]
  },
  {
   "cell_type": "code",
   "execution_count": 66,
   "metadata": {},
   "outputs": [
    {
     "name": "stdout",
     "output_type": "stream",
     "text": [
      "[6.102773880739272, 11.070120652179776, 16.122448526358106, 18.50681255461465, 20.3852854209633, 21.205303162489706, 20.08746191616963]\n"
     ]
    }
   ],
   "source": [
    "#Efficiency\n",
    "eff=[out[i]/inp[i]*100 for i in range(len(out))]\n",
    "print(eff)"
   ]
  },
  {
   "cell_type": "code",
   "execution_count": 67,
   "metadata": {},
   "outputs": [
    {
     "name": "stdout",
     "output_type": "stream",
     "text": [
      "[462.68139586 435.46484316 401.44415229 387.83587594 347.01104689\n",
      " 306.18621785 269.44387171]\n"
     ]
    }
   ],
   "source": [
    "#Unit speed\n",
    "unsp = speed/np.sqrt(13.5)\n",
    "print(unsp)"
   ]
  },
  {
   "cell_type": "code",
   "execution_count": 68,
   "metadata": {},
   "outputs": [
    {
     "name": "stdout",
     "output_type": "stream",
     "text": [
      "[0.0044363  0.00457238 0.00462681 0.00487176 0.00495341 0.00503506\n",
      " 0.00576991]\n"
     ]
    }
   ],
   "source": [
    "#Unit discharge\n",
    "undi = Qact/np.sqrt(13.5)\n",
    "print(undi)"
   ]
  },
  {
   "cell_type": "code",
   "execution_count": 69,
   "metadata": {},
   "outputs": [
    {
     "name": "stdout",
     "output_type": "stream",
     "text": [
      "[2.6559323350967565, 4.965508836604911, 7.317825406052988, 8.844774814434864, 9.905817161452795, 10.474139102597302, 11.370067696583183]\n"
     ]
    }
   ],
   "source": [
    "#Unit power\n",
    "unpo = [outi/(13.5**1.5) for outi in out]\n",
    "print(unpo)"
   ]
  },
  {
   "cell_type": "code",
   "execution_count": null,
   "metadata": {},
   "outputs": [],
   "source": []
  }
 ],
 "metadata": {
  "kernelspec": {
   "display_name": "Python 3",
   "language": "python",
   "name": "python3"
  },
  "language_info": {
   "codemirror_mode": {
    "name": "ipython",
    "version": 3
   },
   "file_extension": ".py",
   "mimetype": "text/x-python",
   "name": "python",
   "nbconvert_exporter": "python",
   "pygments_lexer": "ipython3",
   "version": "3.7.6"
  }
 },
 "nbformat": 4,
 "nbformat_minor": 4
}
