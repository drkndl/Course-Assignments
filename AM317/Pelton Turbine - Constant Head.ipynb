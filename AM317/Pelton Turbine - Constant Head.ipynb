{
 "cells": [
  {
   "cell_type": "code",
   "execution_count": 1,
   "metadata": {},
   "outputs": [],
   "source": [
    "import numpy as np\n",
    "import matplotlib.pyplot as plt"
   ]
  },
  {
   "cell_type": "code",
   "execution_count": 2,
   "metadata": {},
   "outputs": [
    {
     "name": "stdout",
     "output_type": "stream",
     "text": [
      "[1.8 2.8 3.8 4.8 5.8 6.8 7.8 8.8]\n"
     ]
    }
   ],
   "source": [
    "speed = [1010, 950, 910, 850, 750, 700, 620, 500]\n",
    "w = np.linspace(1.8,8.8,8)\n",
    "s = [0.9, 1.6, 2.5, 3.3, 4, 4.9, 5.7, 6.5]\n",
    "print(w)"
   ]
  },
  {
   "cell_type": "code",
   "execution_count": 3,
   "metadata": {},
   "outputs": [
    {
     "name": "stdout",
     "output_type": "stream",
     "text": [
      "[1.32, 1.77, 1.91, 2.21, 2.65, 2.8, 3.09, 3.38]\n",
      "<class 'list'>\n"
     ]
    }
   ],
   "source": [
    "#Torque\n",
    "T = (w-s)*0.15*9.81\n",
    "T = [ round(elem, 2) for elem in T ]\n",
    "print(T)\n",
    "print(type(T))"
   ]
  },
  {
   "cell_type": "code",
   "execution_count": 4,
   "metadata": {},
   "outputs": [
    {
     "name": "stdout",
     "output_type": "stream",
     "text": [
      "9.69\n"
     ]
    }
   ],
   "source": [
    "#Hook gauge reading\n",
    "ir = 0.51\n",
    "#print(ir)\n",
    "fr = 10.2\n",
    "diff = fr - ir\n",
    "print(diff)"
   ]
  },
  {
   "cell_type": "code",
   "execution_count": 5,
   "metadata": {},
   "outputs": [
    {
     "name": "stdout",
     "output_type": "stream",
     "text": [
      "0.004142942659427272\n",
      "<class 'numpy.float64'>\n"
     ]
    }
   ],
   "source": [
    "#Qact\n",
    "Qact = 8/15*0.6*np.sqrt(2*9.81)*(diff*0.01)**2.5\n",
    "print(Qact)\n",
    "print(type(Qact))"
   ]
  },
  {
   "cell_type": "code",
   "execution_count": 13,
   "metadata": {},
   "outputs": [
    {
     "name": "stdout",
     "output_type": "stream",
     "text": [
      "784.3095000000001\n"
     ]
    }
   ],
   "source": [
    "#Input power\n",
    "inp = 19.5*9810.0*0.0041\n",
    "print(inp)"
   ]
  },
  {
   "cell_type": "code",
   "execution_count": 7,
   "metadata": {},
   "outputs": [
    {
     "name": "stdout",
     "output_type": "stream",
     "text": [
      "[139.61, 176.09, 182.01, 196.72, 208.13, 205.25, 200.62, 176.98]\n"
     ]
    }
   ],
   "source": [
    "#Output power\n",
    "out=[]\n",
    "for i in range(len(T)):\n",
    "    out.append(2*np.pi*speed[i]*T[i]/60.0)\n",
    "out = [round(elem,2) for elem in out]\n",
    "print(out)"
   ]
  },
  {
   "cell_type": "code",
   "execution_count": 9,
   "metadata": {},
   "outputs": [
    {
     "name": "stdout",
     "output_type": "stream",
     "text": [
      "[17.615865506097016, 22.218879428182962, 22.965859757644278, 24.821954461424, 26.26165810317292, 25.89826226721877, 25.314052989278586, 22.331178835821568]\n"
     ]
    }
   ],
   "source": [
    "#Efficiency\n",
    "eff=[out[i]/inp*100 for i in range(len(out))]\n",
    "print(eff)"
   ]
  },
  {
   "cell_type": "code",
   "execution_count": 16,
   "metadata": {},
   "outputs": [
    {
     "name": "stdout",
     "output_type": "stream",
     "text": [
      "[228.7199609  215.13263649 206.07442021 192.4870958  169.84155512\n",
      " 158.51878478 140.40235223 113.22770341]\n"
     ]
    }
   ],
   "source": [
    "#Unit speed\n",
    "unsp = speed/np.sqrt(19.5)\n",
    "print(unsp)"
   ]
  },
  {
   "cell_type": "code",
   "execution_count": 15,
   "metadata": {},
   "outputs": [
    {
     "name": "stdout",
     "output_type": "stream",
     "text": [
      "0.000938191765409487\n"
     ]
    }
   ],
   "source": [
    "#Unit discharge\n",
    "undi = Qact/np.sqrt(19.5)\n",
    "print(undi)"
   ]
  },
  {
   "cell_type": "code",
   "execution_count": 14,
   "metadata": {},
   "outputs": [
    {
     "name": "stdout",
     "output_type": "stream",
     "text": [
      "[1.6213045819172003, 2.0449503891540703, 2.113699928047773, 2.2845285964812807, 2.417034042220664, 2.3835883205967003, 2.329819677847065, 2.055286046183698]\n"
     ]
    }
   ],
   "source": [
    "#Unit power\n",
    "unpo = [outi/(19.5**1.5) for outi in out]\n",
    "print(unpo)"
   ]
  },
  {
   "cell_type": "code",
   "execution_count": null,
   "metadata": {},
   "outputs": [],
   "source": []
  }
 ],
 "metadata": {
  "kernelspec": {
   "display_name": "Python 3",
   "language": "python",
   "name": "python3"
  },
  "language_info": {
   "codemirror_mode": {
    "name": "ipython",
    "version": 3
   },
   "file_extension": ".py",
   "mimetype": "text/x-python",
   "name": "python",
   "nbconvert_exporter": "python",
   "pygments_lexer": "ipython3",
   "version": "3.7.6"
  }
 },
 "nbformat": 4,
 "nbformat_minor": 4
}
