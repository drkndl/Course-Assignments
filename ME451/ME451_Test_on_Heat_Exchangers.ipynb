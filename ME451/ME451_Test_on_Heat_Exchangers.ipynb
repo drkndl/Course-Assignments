{
 "cells": [
  {
   "cell_type": "code",
   "execution_count": 2,
   "id": "699a3035",
   "metadata": {},
   "outputs": [],
   "source": [
    "import numpy as np\n",
    "import matplotlib.pyplot as plt"
   ]
  },
  {
   "cell_type": "markdown",
   "id": "ef04983f",
   "metadata": {},
   "source": [
    "### Hot Fluid"
   ]
  },
  {
   "cell_type": "code",
   "execution_count": 3,
   "id": "45563a8c",
   "metadata": {},
   "outputs": [],
   "source": [
    "# Flow rates\n",
    "Whp = 0.225       # Parallel hot fluid\n",
    "Whc = 0.235       # Parallel cold fluid\n",
    "\n",
    "# Temperatures\n",
    "Thip = 70\n",
    "Thic = 76\n",
    "Thop = 50\n",
    "Thoc = 49"
   ]
  },
  {
   "cell_type": "markdown",
   "id": "6cbeb1b5",
   "metadata": {},
   "source": [
    "### Cold Fluid"
   ]
  },
  {
   "cell_type": "code",
   "execution_count": 4,
   "id": "da929258",
   "metadata": {},
   "outputs": [],
   "source": [
    "# Flow rates\n",
    "Wcp = 0.21\n",
    "Wcc = 0.215\n",
    "\n",
    "# Temperatures\n",
    "Tcip = 32\n",
    "Tcic = 31\n",
    "Tcop = 42\n",
    "Tcoc = 52"
   ]
  },
  {
   "cell_type": "code",
   "execution_count": 5,
   "id": "8cbef62a",
   "metadata": {},
   "outputs": [],
   "source": [
    "A = 0.0612      # Transfer area of pipe m^2\n",
    "C = 4.2"
   ]
  },
  {
   "cell_type": "markdown",
   "id": "09d85ac8",
   "metadata": {},
   "source": [
    "### Calculations"
   ]
  },
  {
   "cell_type": "code",
   "execution_count": 7,
   "id": "fcdd8850",
   "metadata": {},
   "outputs": [
    {
     "data": {
      "text/plain": [
       "38"
      ]
     },
     "execution_count": 7,
     "metadata": {},
     "output_type": "execute_result"
    }
   ],
   "source": [
    "theta_ip = Thip - Tcip\n",
    "theta_ip"
   ]
  },
  {
   "cell_type": "code",
   "execution_count": 8,
   "id": "e971b2d0",
   "metadata": {},
   "outputs": [
    {
     "data": {
      "text/plain": [
       "24"
      ]
     },
     "execution_count": 8,
     "metadata": {},
     "output_type": "execute_result"
    }
   ],
   "source": [
    "theta_ic = Thic - Tcoc\n",
    "theta_ic"
   ]
  },
  {
   "cell_type": "code",
   "execution_count": null,
   "id": "6d1db9b3",
   "metadata": {},
   "outputs": [],
   "source": []
  }
 ],
 "metadata": {
  "kernelspec": {
   "display_name": "Python 3 (ipykernel)",
   "language": "python",
   "name": "python3"
  },
  "language_info": {
   "codemirror_mode": {
    "name": "ipython",
    "version": 3
   },
   "file_extension": ".py",
   "mimetype": "text/x-python",
   "name": "python",
   "nbconvert_exporter": "python",
   "pygments_lexer": "ipython3",
   "version": "3.9.5"
  }
 },
 "nbformat": 4,
 "nbformat_minor": 5
}
