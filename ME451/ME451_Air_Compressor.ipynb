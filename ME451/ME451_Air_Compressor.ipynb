{
 "cells": [
  {
   "cell_type": "code",
   "execution_count": 1,
   "id": "14bbaaf8",
   "metadata": {},
   "outputs": [],
   "source": [
    "import numpy as np\n",
    "import matplotlib.pyplot as plt"
   ]
  },
  {
   "cell_type": "code",
   "execution_count": 2,
   "id": "1c94e59e",
   "metadata": {},
   "outputs": [],
   "source": [
    "w = 10\n",
    "l = 48\n",
    "t = np.array([395, 193, 179, 142, 152])\n",
    "del_pres = np.array([0, 2, 4, 6, 8])\n",
    "h = np.array([14.1, 9.2, 8.4, 8.1, 7.7])\n",
    "N = np.array([740, 720, 710, 702, 698])\n",
    "a = np.array([0, 600, 800, 900, 800])"
   ]
  },
  {
   "cell_type": "code",
   "execution_count": 3,
   "id": "6e907ad3",
   "metadata": {},
   "outputs": [],
   "source": [
    "S = 15.2 * 10**-3\n",
    "K = 0.02655\n",
    "motor_eff = 0.75\n",
    "T = 302\n",
    "P = 76"
   ]
  },
  {
   "cell_type": "code",
   "execution_count": 4,
   "id": "74e3c068",
   "metadata": {},
   "outputs": [
    {
     "data": {
      "text/plain": [
       "array([0.60759494, 1.24352332, 1.34078212, 1.69014085, 1.57894737])"
      ]
     },
     "execution_count": 4,
     "metadata": {},
     "output_type": "execute_result"
    }
   ],
   "source": [
    "# Input to motor (kW)\n",
    "motor_input = 24 * w/t\n",
    "motor_input"
   ]
  },
  {
   "cell_type": "code",
   "execution_count": 5,
   "id": "1c0d0a14",
   "metadata": {},
   "outputs": [
    {
     "data": {
      "text/plain": [
       "array([0.4556962 , 0.93264249, 1.00558659, 1.26760563, 1.18421053])"
      ]
     },
     "execution_count": 5,
     "metadata": {},
     "output_type": "execute_result"
    }
   ],
   "source": [
    "# Shaft power (kW)\n",
    "shaft_power = motor_eff * motor_input\n",
    "shaft_power"
   ]
  },
  {
   "cell_type": "code",
   "execution_count": 6,
   "id": "f6450dd3",
   "metadata": {},
   "outputs": [
    {
     "data": {
      "text/plain": [
       "array([0.        , 0.19      , 0.25333333, 0.285     , 0.25333333])"
      ]
     },
     "execution_count": 6,
     "metadata": {},
     "output_type": "execute_result"
    }
   ],
   "source": [
    "# MEP (N/mm^2)\n",
    "MEP = a/l*S\n",
    "MEP"
   ]
  },
  {
   "cell_type": "code",
   "execution_count": 7,
   "id": "89758bbe",
   "metadata": {},
   "outputs": [
    {
     "data": {
      "text/plain": [
       "array([0.   , 0.746, 0.981, 1.091, 0.964])"
      ]
     },
     "execution_count": 7,
     "metadata": {},
     "output_type": "execute_result"
    }
   ],
   "source": [
    "# Indicated power (kW)\n",
    "stroke = 85\n",
    "D = 70\n",
    "IP = MEP * stroke * np.pi * 0.25 * D**2 * N *10**-3 / 60000\n",
    "IP.round(3)"
   ]
  },
  {
   "cell_type": "code",
   "execution_count": 8,
   "id": "5f8bf650",
   "metadata": {},
   "outputs": [
    {
     "data": {
      "text/plain": [
       "array([0.199, 0.161, 0.153, 0.151, 0.147])"
      ]
     },
     "execution_count": 8,
     "metadata": {},
     "output_type": "execute_result"
    }
   ],
   "source": [
    "# Free air delivered (m^3/min)\n",
    "FAD = K * np.sqrt(h) * np.sqrt(T/P)\n",
    "FAD.round(3)"
   ]
  },
  {
   "cell_type": "code",
   "execution_count": 9,
   "id": "cb436138",
   "metadata": {},
   "outputs": [
    {
     "name": "stdout",
     "output_type": "stream",
     "text": [
      "[1.         2.97433366 4.94866732 6.92300099 8.89733465]\n"
     ]
    },
    {
     "data": {
      "text/plain": [
       "array([0.   , 0.295, 0.414, 0.492, 0.542])"
      ]
     },
     "execution_count": 9,
     "metadata": {},
     "output_type": "execute_result"
    }
   ],
   "source": [
    "# Isothermal power (kW)\n",
    "P1 = 1.013 \n",
    "r = (del_pres + P1)/P1\n",
    "print(r)\n",
    "isothermal_power = P1 * 10**5* FAD * np.log(r)/60000\n",
    "isothermal_power.round(3)"
   ]
  },
  {
   "cell_type": "code",
   "execution_count": 10,
   "id": "87640e63",
   "metadata": {},
   "outputs": [
    {
     "data": {
      "text/plain": [
       "array([ 0.  , 79.97, 97.52, 86.05, 81.41])"
      ]
     },
     "execution_count": 10,
     "metadata": {},
     "output_type": "execute_result"
    }
   ],
   "source": [
    "# Mechanical efficiency (%)\n",
    "eff_mech = IP/shaft_power * 100\n",
    "eff_mech.round(2)"
   ]
  },
  {
   "cell_type": "code",
   "execution_count": 11,
   "id": "6e97594a",
   "metadata": {},
   "outputs": [
    {
     "name": "stderr",
     "output_type": "stream",
     "text": [
      "C:\\Users\\Drishika\\AppData\\Local\\Temp/ipykernel_5512/1389518160.py:2: RuntimeWarning: invalid value encountered in true_divide\n",
      "  eff_isothermal = isothermal_power / IP *100\n"
     ]
    },
    {
     "data": {
      "text/plain": [
       "array([ 0.  , 39.61, 42.23, 45.11, 56.22])"
      ]
     },
     "execution_count": 11,
     "metadata": {},
     "output_type": "execute_result"
    }
   ],
   "source": [
    "# Isothermal efficiency (%)\n",
    "eff_isothermal = isothermal_power / IP *100\n",
    "eff_isothermal[0] = 0\n",
    "eff_isothermal.round(2)"
   ]
  },
  {
   "cell_type": "code",
   "execution_count": 12,
   "id": "3350bf26",
   "metadata": {},
   "outputs": [
    {
     "data": {
      "text/plain": [
       "array([ 0.  , 31.68, 41.18, 38.82, 45.77])"
      ]
     },
     "execution_count": 12,
     "metadata": {},
     "output_type": "execute_result"
    }
   ],
   "source": [
    "# Overall efficiency (%)\n",
    "eff_overall = isothermal_power /shaft_power * 100\n",
    "eff_overall.round(2)"
   ]
  },
  {
   "cell_type": "code",
   "execution_count": 13,
   "id": "b74fbc44",
   "metadata": {},
   "outputs": [
    {
     "data": {
      "text/plain": [
       "array([82.1 , 68.16, 66.04, 65.59, 64.32])"
      ]
     },
     "execution_count": 13,
     "metadata": {},
     "output_type": "execute_result"
    }
   ],
   "source": [
    "# Volumetric efficiency (%)\n",
    "eff_volumetric = FAD * 100 / (stroke * np.pi * 0.25 * D**2 * 10**-9 * N)\n",
    "eff_volumetric.round(2)"
   ]
  },
  {
   "cell_type": "code",
   "execution_count": 14,
   "id": "432e75ba",
   "metadata": {},
   "outputs": [
    {
     "data": {
      "image/png": "[encoded data removed]",
      "text/plain": [
       "<Figure size 432x288 with 1 Axes>"
      ]
     },
     "metadata": {
      "needs_background": "light"
     },
     "output_type": "display_data"
    }
   ],
   "source": [
    "# Plots\n",
    "\n",
    "plt.plot(del_pres, FAD, marker='o', label = r\"Free air delivery ($m^3$/min)\")\n",
    "plt.plot(del_pres, shaft_power, marker='o', label = r\"Shaft power (kW)\")\n",
    "plt.plot(del_pres, IP, marker='o', label = r\"Indicated power (kW)\")\n",
    "plt.legend()\n",
    "plt.grid()\n",
    "plt.title(r\"FAD, SP, IP vs $P_d$\")\n",
    "plt.xlabel(\"Delivery pressure (bar)\")\n",
    "plt.ylabel(\"FAD, SP, IP\")\n",
    "plt.savefig(\"Desktop/plot1.png\")\n",
    "plt.show()"
   ]
  },
  {
   "cell_type": "code",
   "execution_count": 15,
   "id": "c5e96117",
   "metadata": {},
   "outputs": [
    {
     "data": {
      "image/png": "[encoded data removed]",
      "text/plain": [
       "<Figure size 432x288 with 1 Axes>"
      ]
     },
     "metadata": {
      "needs_background": "light"
     },
     "output_type": "display_data"
    }
   ],
   "source": [
    "plt.plot(del_pres, eff_mech, marker='o', label = r\"Mechanical efficiency\")\n",
    "plt.plot(del_pres, eff_isothermal, marker='o', label = r\"Isothermal efficiency\")\n",
    "plt.plot(del_pres, eff_overall, marker='o', label = r\"Overall efficiency\")\n",
    "plt.plot(del_pres, eff_volumetric, marker='o', label = r\"Volumetric efficiency\")\n",
    "plt.legend()\n",
    "plt.grid()\n",
    "plt.title(r\"$\\eta_{mech}, \\eta_{iso}, \\eta_{overall}, \\eta_{vol}$ vs $P_d$\")\n",
    "plt.xlabel(\"Delivery pressure (bar)\")\n",
    "plt.ylabel(\"Efficiency (%)\")\n",
    "plt.savefig(\"Desktop/plot2.png\")\n",
    "plt.show()"
   ]
  }
 ],
 "metadata": {
  "kernelspec": {
   "display_name": "Python 3 (ipykernel)",
   "language": "python",
   "name": "python3"
  },
  "language_info": {
   "codemirror_mode": {
    "name": "ipython",
    "version": 3
   },
   "file_extension": ".py",
   "mimetype": "text/x-python",
   "name": "python",
   "nbconvert_exporter": "python",
   "pygments_lexer": "ipython3",
   "version": "3.9.5"
  }
 },
 "nbformat": 4,
 "nbformat_minor": 5
}
